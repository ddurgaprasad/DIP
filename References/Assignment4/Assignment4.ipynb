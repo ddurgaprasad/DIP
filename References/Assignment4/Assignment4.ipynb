{
 "cells": [
  {
   "cell_type": "code",
   "execution_count": 17,
   "metadata": {
    "collapsed": true
   },
   "outputs": [],
   "source": [
    "import numpy as np\n",
    "import cv2\n",
    "\n",
    "from matplotlib import pyplot as plt\n",
    "\n",
    "import scipy.ndimage.morphology as m\n",
    "from sklearn.cluster import KMeans\n",
    "from collections import Counter\n",
    "from skimage.color import rgb2lab, deltaE_cie76\n",
    "%matplotlib inline\n"
   ]
  },
  {
   "cell_type": "code",
   "execution_count": 18,
   "metadata": {
    "collapsed": true
   },
   "outputs": [],
   "source": [
    "def getColorSpaces(image):\n",
    "    rgb = cv2.cvtColor(image,cv2.COLOR_RGB2BGR)\n",
    "    gray = cv2.cvtColor(image,cv2.COLOR_RGB2GRAY)\n",
    "    \n",
    "    return rgb,gray\n",
    "\n",
    "def getImageDimnesion(image):\n",
    "    height,width = image.shape[:2]\n",
    "    \n",
    "    return height,width\n",
    "\n",
    "def showImage(image,title,cmap):\n",
    "    plt.imshow(image,cmap=cmap)\n",
    "    plt.axis('off')\n",
    "    plt.title(title)\n",
    "\n",
    "def splitRGBChannels(image):\n",
    "  red, green, blue= cv2.split(img)\n",
    "  \n",
    "  return red, green, blue\n",
    "\n",
    "def getBinaryImage(gray):\n",
    "    ret,thresh= cv2.threshold(gray,127,255,cv2.THRESH_BINARY)\n",
    "    return thresh\n",
    " \n",
    "def cropBorder(image,dx=20,dy=20):\n",
    "    h,w=getImageDimnesion(image)    \n",
    "    im=image.copy()\n",
    "    im = im[dy:h-dy,dx:w-dx]\n",
    "    \n",
    "    return im"
   ]
  },
  {
   "cell_type": "markdown",
   "metadata": {},
   "source": [
    "## Question 1: Skeletonization"
   ]
  },
  {
   "cell_type": "code",
   "execution_count": 19,
   "metadata": {
    "collapsed": true
   },
   "outputs": [],
   "source": [
    " \n",
    "def getSkeletonizedImage(binary):\n",
    "    h1 = np.array([[0, 0, 0],[0, 1, 0],[1, 1, 1]]) \n",
    "    m1 = np.array([[1, 1, 1],[0, 0, 0],[0, 0, 0]]) \n",
    "    h2 = np.array([[0, 0, 0],[1, 1, 0],[0, 1, 0]]) \n",
    "    m2 = np.array([[0, 1, 1],[0, 0, 1],[0, 0, 0]])    \n",
    "    hit_list = [] \n",
    "    miss_list = []\n",
    "    for k in range(4): \n",
    "        hit_list.append(np.rot90(h1, k))\n",
    "        hit_list.append(np.rot90(h2, k))\n",
    "        miss_list.append(np.rot90(m1, k))\n",
    "        miss_list.append(np.rot90(m2, k))    \n",
    "    binary = binary.copy()\n",
    "    while True:\n",
    "        last = binary\n",
    "        for hit, miss in zip(hit_list, miss_list): \n",
    "            hm = m.binary_hit_or_miss(binary, hit, miss) \n",
    "            binary = np.logical_and(binary, np.logical_not(hm))             \n",
    "        if np.all(binary == last):  \n",
    "            break\n",
    "    return binary"
   ]
  },
  {
   "cell_type": "code",
   "execution_count": 20,
   "metadata": {
    "collapsed": true
   },
   "outputs": [],
   "source": [
    "#Kernel sized hit or miss status\n",
    "def getHitMissStatus(binary_image,kernel):\n",
    "\n",
    "    h,w = binary_image.shape\n",
    "    for i in range(h):\n",
    "        for j in range(w):\n",
    "            if kernel[i,j]!=-1 and binary_image[i,j]!=kernel[i,j]:\n",
    "                return False\n",
    "    return True\n",
    "\n",
    "def ConvolveHitMiss(binary_image,kernel):\n",
    "    new_binary_image = binary_image.copy()\n",
    "    h,w = new_binary_image.shape\n",
    "    for i in range(1,h-1):\n",
    "        for j in range(1,w-1):\n",
    "            if getHitMissStatus(binary_image[i-1:i+2,j-1:j+2],kernel):\n",
    "                new_binary_image[i,j] = 0    \n",
    "    return new_binary_image \n",
    "\n",
    "def getSkeletonizedbinary_Custom(binary_image,threshold=1):\n",
    "    S1 = np.array([\n",
    "            [0,0,0],\n",
    "            [-1,1,-1],\n",
    "            [1,1,1]])\n",
    "    S2 = np.array([\n",
    "            [-1,0,0],\n",
    "            [1,1,0],\n",
    "            [-1,1,-1]])\n",
    "    bin_binary_image = (binary_image < 127).astype(np.uint8)\n",
    "\n",
    "    while True:\n",
    "        new_binary_image = bin_binary_image\n",
    "        for i in range(4):\n",
    "            new_binary_image = ConvolveHitMiss(new_binary_image,S1)    \n",
    "            new_binary_image = ConvolveHitMiss(new_binary_image,S2)    \n",
    "            S1 = np.rot90(S1)\n",
    "            S2 = np.rot90(S2)  \n",
    "        diff = np.mean(np.abs(new_binary_image-bin_binary_image))\n",
    "        if diff <= threshold: \n",
    "            break\n",
    "        else:\n",
    "            bin_binary_image = new_binary_image\n",
    "    return new_binary_image\n",
    "\n",
    "def getSkeletonizedbinary_Custom2(binary_image,threshold=1):\n",
    "    S1 = np.array([\n",
    "            [0,0,0],\n",
    "            [-1,1,-1],\n",
    "            [1,1,1]])\n",
    "    S2 = np.array([\n",
    "            [-1,0,0],\n",
    "            [1,1,0],\n",
    "            [-1,1,-1]])\n",
    "    bin_binary_image = (binary_image < 127).astype(np.uint8)\n",
    "    \n",
    "    S1_list = [] \n",
    "    S2_list = []\n",
    "    \n",
    "    for k in range(4):        \n",
    "        S1_list.append(np.rot90(S1, k))\n",
    "        S2_list.append(np.rot90(S2, k))\n",
    "\n",
    "    while True:\n",
    "        new_binary_image = bin_binary_image\n",
    "        for s1,s2 in zip(S1_list,S2_list):\n",
    "            new_binary_image = ConvolveHitMiss(new_binary_image,s1)    \n",
    "            new_binary_image = ConvolveHitMiss(new_binary_image,s2)    \n",
    "\n",
    "        diff = np.mean(np.abs(new_binary_image-bin_binary_image))\n",
    "        print('Diff :',diff)\n",
    "        if diff <= threshold: \n",
    "            break\n",
    "        else:\n",
    "            bin_binary_image = new_binary_image\n",
    "    return new_binary_image"
   ]
  },
  {
   "cell_type": "code",
   "execution_count": 22,
   "metadata": {},
   "outputs": [
    {
     "ename": "error",
     "evalue": "OpenCV(3.4.2) c:\\projects\\opencv-python\\opencv\\modules\\imgproc\\src\\color.hpp:253: error: (-215:Assertion failed) VScn::contains(scn) && VDcn::contains(dcn) && VDepth::contains(depth) in function 'cv::CvtHelper<struct cv::Set<3,4,-1>,struct cv::Set<3,4,-1>,struct cv::Set<0,2,5>,2>::CvtHelper'\n",
     "output_type": "error",
     "traceback": [
      "\u001b[1;31m---------------------------------------------------------------------------\u001b[0m",
      "\u001b[1;31merror\u001b[0m                                     Traceback (most recent call last)",
      "\u001b[1;32m<ipython-input-22-6ed671ef2f06>\u001b[0m in \u001b[0;36m<module>\u001b[1;34m()\u001b[0m\n\u001b[0;32m      1\u001b[0m \u001b[0mimg_path\u001b[0m\u001b[1;33m=\u001b[0m \u001b[1;34mr'./input_data/fingerprint.jpg'\u001b[0m\u001b[1;33m\u001b[0m\u001b[0m\n\u001b[0;32m      2\u001b[0m \u001b[0mimg\u001b[0m \u001b[1;33m=\u001b[0m \u001b[0mcv2\u001b[0m\u001b[1;33m.\u001b[0m\u001b[0mimread\u001b[0m\u001b[1;33m(\u001b[0m\u001b[0mimg_path\u001b[0m\u001b[1;33m)\u001b[0m\u001b[1;33m\u001b[0m\u001b[0m\n\u001b[1;32m----> 3\u001b[1;33m \u001b[0mrgb\u001b[0m\u001b[1;33m,\u001b[0m\u001b[0mgray\u001b[0m\u001b[1;33m=\u001b[0m\u001b[0mgetColorSpaces\u001b[0m\u001b[1;33m(\u001b[0m\u001b[0mimg\u001b[0m\u001b[1;33m)\u001b[0m\u001b[1;33m\u001b[0m\u001b[0m\n\u001b[0m\u001b[0;32m      4\u001b[0m \u001b[1;33m\u001b[0m\u001b[0m\n\u001b[0;32m      5\u001b[0m \u001b[0mplt\u001b[0m\u001b[1;33m.\u001b[0m\u001b[0mfigure\u001b[0m\u001b[1;33m(\u001b[0m\u001b[0mfigsize\u001b[0m\u001b[1;33m=\u001b[0m\u001b[1;33m(\u001b[0m\u001b[1;36m12\u001b[0m\u001b[1;33m,\u001b[0m \u001b[1;36m12\u001b[0m\u001b[1;33m)\u001b[0m\u001b[1;33m)\u001b[0m\u001b[1;33m\u001b[0m\u001b[0m\n",
      "\u001b[1;32m<ipython-input-18-51dc919352dd>\u001b[0m in \u001b[0;36mgetColorSpaces\u001b[1;34m(image)\u001b[0m\n\u001b[0;32m      1\u001b[0m \u001b[1;32mdef\u001b[0m \u001b[0mgetColorSpaces\u001b[0m\u001b[1;33m(\u001b[0m\u001b[0mimage\u001b[0m\u001b[1;33m)\u001b[0m\u001b[1;33m:\u001b[0m\u001b[1;33m\u001b[0m\u001b[0m\n\u001b[1;32m----> 2\u001b[1;33m     \u001b[0mrgb\u001b[0m \u001b[1;33m=\u001b[0m \u001b[0mcv2\u001b[0m\u001b[1;33m.\u001b[0m\u001b[0mcvtColor\u001b[0m\u001b[1;33m(\u001b[0m\u001b[0mimage\u001b[0m\u001b[1;33m,\u001b[0m\u001b[0mcv2\u001b[0m\u001b[1;33m.\u001b[0m\u001b[0mCOLOR_RGB2BGR\u001b[0m\u001b[1;33m)\u001b[0m\u001b[1;33m\u001b[0m\u001b[0m\n\u001b[0m\u001b[0;32m      3\u001b[0m     \u001b[0mgray\u001b[0m \u001b[1;33m=\u001b[0m \u001b[0mcv2\u001b[0m\u001b[1;33m.\u001b[0m\u001b[0mcvtColor\u001b[0m\u001b[1;33m(\u001b[0m\u001b[0mimage\u001b[0m\u001b[1;33m,\u001b[0m\u001b[0mcv2\u001b[0m\u001b[1;33m.\u001b[0m\u001b[0mCOLOR_RGB2GRAY\u001b[0m\u001b[1;33m)\u001b[0m\u001b[1;33m\u001b[0m\u001b[0m\n\u001b[0;32m      4\u001b[0m \u001b[1;33m\u001b[0m\u001b[0m\n\u001b[0;32m      5\u001b[0m     \u001b[1;32mreturn\u001b[0m \u001b[0mrgb\u001b[0m\u001b[1;33m,\u001b[0m\u001b[0mgray\u001b[0m\u001b[1;33m\u001b[0m\u001b[0m\n",
      "\u001b[1;31merror\u001b[0m: OpenCV(3.4.2) c:\\projects\\opencv-python\\opencv\\modules\\imgproc\\src\\color.hpp:253: error: (-215:Assertion failed) VScn::contains(scn) && VDcn::contains(dcn) && VDepth::contains(depth) in function 'cv::CvtHelper<struct cv::Set<3,4,-1>,struct cv::Set<3,4,-1>,struct cv::Set<0,2,5>,2>::CvtHelper'\n"
     ]
    }
   ],
   "source": [
    "img_path= r'./input_data/fingerprint.jpg'\n",
    "img = cv2.imread(img_path)\n",
    "rgb,gray=getColorSpaces(img)\n",
    "\n",
    "plt.figure(figsize=(12, 12))\n",
    "\n",
    "plt.subplot(3,2,1) \n",
    "plt.axis('off')\n",
    "plt.title('Original') \n",
    "plt.imshow(gray,cmap='gray')\n",
    "\n",
    "binary=getBinaryImage(gray)\n",
    "img_not = cv2.bitwise_not(binary)\n",
    "skeliton = getSkeletonizedImage(img_not)\n",
    "\n",
    "plt.subplot(3,2,2) \n",
    "plt.axis('off')\n",
    "plt.title('Skeleton Image')\n",
    "plt.imshow(skeliton,cmap='gray')\n",
    "\n",
    "skeleton_image = getSkeletonizedbinary_Custom2(gray)   \n",
    "\n",
    "plt.subplot(3,2,4) \n",
    "plt.axis('off')\n",
    "plt.title('Skeleton Image-Custom')\n",
    "plt.imshow(skeleton_image,cmap='gray')"
   ]
  },
  {
   "cell_type": "code",
   "execution_count": null,
   "metadata": {
    "collapsed": true
   },
   "outputs": [],
   "source": []
  },
  {
   "cell_type": "code",
   "execution_count": null,
   "metadata": {
    "collapsed": true
   },
   "outputs": [],
   "source": []
  },
  {
   "cell_type": "code",
   "execution_count": 11,
   "metadata": {
    "collapsed": true
   },
   "outputs": [],
   "source": [
    "#https://stackoverflow.com/questions/50899692/most-dominant-color-in-rgb-image-opencv-numpy-python\n",
    "def getTopColors(im,num_colors=6):\n",
    "    #Get color frequnecies\n",
    "    color, colorcnt = np.unique(im.reshape(-1, im.shape[2]), axis=0, return_counts=True);\n",
    "    #Sort the occarnces in reverse order to get top n-indices\n",
    "    indices=(-colorcnt).argsort()[:6]\n",
    "#    print(indices)\n",
    "    \n",
    "    bg_color=color[indices[0]]\n",
    "    top_colors=[]\n",
    "    #Most dominant color is background color,which is not text, threfore remove this item from the list\n",
    "    # and consider only top 5 colors\n",
    "    for idx in indices[1:]:\n",
    "        top_colors.append(color[idx])\n",
    "    \n",
    "    return np.array(top_colors),bg_color"
   ]
  },
  {
   "cell_type": "code",
   "execution_count": 15,
   "metadata": {
    "collapsed": true
   },
   "outputs": [],
   "source": [
    "\n",
    "def getColoredText(im,color,bg_color):    \n",
    "    h,w = getImageDimnesion(img)\n",
    "    mask = im.copy()\n",
    "    \n",
    "    for i in range(h):\n",
    "        for j in range(w):\n",
    "            if not np.array_equal(im[i,j,:],color):\n",
    "                mask[i,j] = bg_color\n",
    "    return  mask         \n"
   ]
  },
  {
   "cell_type": "code",
   "execution_count": 16,
   "metadata": {},
   "outputs": [
    {
     "data": {
      "text/plain": [
       "<matplotlib.image.AxesImage at 0x1d4752c96d8>"
      ]
     },
     "execution_count": 16,
     "metadata": {},
     "output_type": "execute_result"
    },
    {
     "data": {
      "image/png": "[encoded data removed]",
      "text/plain": [
       "<matplotlib.figure.Figure at 0x1d474322588>"
      ]
     },
     "metadata": {},
     "output_type": "display_data"
    }
   ],
   "source": [
    "img_path=r'C:/SAI/IIIT/2019_Monsoon/DIP/Assignment4/input_data/fbpost.png'\n",
    "img = cv2.imread(img_path)\n",
    "img=cropBorder(img,20,20)\n",
    "\n",
    "rgb,gray=getColorSpaces(img)\n",
    "\n",
    "height,width=getImageDimnesion(img)\n",
    "\n",
    "binary=getBinaryImage(gray)\n",
    "\n",
    "plt.figure(figsize=(20, 20))\n",
    "\n",
    "plt.subplot(3,2,1) \n",
    "plt.axis('off')\n",
    "plt.title('Original-Crop border') \n",
    "plt.imshow(rgb)"
   ]
  },
  {
   "cell_type": "code",
   "execution_count": 14,
   "metadata": {},
   "outputs": [
    {
     "data": {
      "image/png": "[encoded data removed]",
      "text/plain": [
       "<matplotlib.figure.Figure at 0x1d475269908>"
      ]
     },
     "metadata": {},
     "output_type": "display_data"
    },
    {
     "data": {
      "image/png": "[encoded data removed]",
      "text/plain": [
       "<matplotlib.figure.Figure at 0x1d474202358>"
      ]
     },
     "metadata": {},
     "output_type": "display_data"
    },
    {
     "data": {
      "image/png": "[encoded data removed]",
      "text/plain": [
       "<matplotlib.figure.Figure at 0x1d47423acc0>"
      ]
     },
     "metadata": {},
     "output_type": "display_data"
    },
    {
     "data": {
      "image/png": "[encoded data removed]",
      "text/plain": [
       "<matplotlib.figure.Figure at 0x1d47427c6d8>"
      ]
     },
     "metadata": {},
     "output_type": "display_data"
    },
    {
     "data": {
      "image/png": "[encoded data removed]",
      "text/plain": [
       "<matplotlib.figure.Figure at 0x1d4742bf208>"
      ]
     },
     "metadata": {},
     "output_type": "display_data"
    }
   ],
   "source": [
    "im=rgb.copy()\n",
    "top_colors,bg_color=getTopColors(im)\n",
    "#print(top_colors)\n",
    "\n",
    "text_images = []\n",
    "for color in top_colors:\n",
    "    mask=getColoredText(im,color,bg_color)\n",
    "    text_images.append(mask)\n",
    "\n",
    "for img in text_images:\n",
    "    plt.figure()\n",
    "    plt.axis('off')\n",
    "    plt.imshow(img)\n"
   ]
  },
  {
   "cell_type": "code",
   "execution_count": null,
   "metadata": {
    "collapsed": true
   },
   "outputs": [],
   "source": []
  }
 ],
 "metadata": {
  "kernelspec": {
   "display_name": "Python 3",
   "language": "python",
   "name": "python3"
  },
  "language_info": {
   "codemirror_mode": {
    "name": "ipython",
    "version": 3
   },
   "file_extension": ".py",
   "mimetype": "text/x-python",
   "name": "python",
   "nbconvert_exporter": "python",
   "pygments_lexer": "ipython3",
   "version": "3.6.0"
  }
 },
 "nbformat": 4,
 "nbformat_minor": 2
}
